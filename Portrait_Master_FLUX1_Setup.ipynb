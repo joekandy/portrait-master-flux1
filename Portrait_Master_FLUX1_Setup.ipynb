{
  "cells": [
    {
      "cell_type": "code",
      "execution_count": null,
      "metadata": {
        "vscode": {
          "languageId": "plaintext"
        }
      },
      "outputs": [],
      "source": [
        "# 🎨 Portrait Master FLUX1 - Setup Completo\n",
        "\n",
        "**Installazione automatica Portrait Master FLUX1 su Google Colab/RunPod/Local**\n",
        "\n",
        "Questo notebook installa automaticamente:\n",
        "- Tutti i Custom Nodes necessari\n",
        "- Modelli FLUX core\n",
        "- Workflow Portrait Master corretti\n",
        "- Dipendenze complete\n",
        "\n",
        "## 📋 Prerequisiti\n",
        "- GPU con almeno 12GB VRAM\n",
        "- ComfyUI installato\n",
        "- Python 3.10+\n"
      ]
    }
  ],
  "metadata": {
    "language_info": {
      "name": "python"
    }
  },
  "nbformat": 4,
  "nbformat_minor": 2
}
